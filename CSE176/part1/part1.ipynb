{
 "cells": [
  {
   "cell_type": "code",
   "execution_count": 17,
   "metadata": {},
   "outputs": [],
   "source": [
    "import sklearn.ensemble as sle\n",
    "import sklearn.linear_model as sllm\n",
    "from sklearn.model_selection import train_test_split\n",
    "import scipy.io\n",
    "import scipy.stats\n",
    "import numpy as np\n",
    "from sklearn import metrics\n",
    "from sklearn.model_selection import GridSearchCV\n",
    "import numpy as np"
   ]
  },
  {
   "cell_type": "code",
   "execution_count": 18,
   "metadata": {},
   "outputs": [],
   "source": [
    "# Binary classification: 3 vs. 8\n",
    "mnist_mini = scipy.io.loadmat('MNISTmini.mat') # load mnistmini\n",
    "# normalize data\n",
    "X_raw = mnist_mini['train_fea1'] / 255.0 \n",
    "X_test = mnist_mini['test_fea1'] / 255.0\n",
    "Y_raw = mnist_mini['train_gnd1'].T.flatten()\n",
    "Y_test = mnist_mini['test_gnd1'].T.flatten()\n",
    "\n",
    "# select 3 and 8\n",
    "mask_train = np.logical_or(Y_raw == 3, Y_raw == 8)\n",
    "mask_test = np.logical_or(Y_test == 3, Y_test == 8)\n",
    "X_raw_mask = X_raw[mask_train]\n",
    "Y_raw_mask = Y_raw[mask_train]\n",
    "X_test = X_test[mask_test]\n",
    "Y_test = Y_test[mask_test]"
   ]
  },
  {
   "cell_type": "code",
   "execution_count": 27,
   "metadata": {},
   "outputs": [],
   "source": [
    "# split training set 80-20 to create validation set\n",
    "X_train, X_val, Y_train, Y_val = train_test_split(X_raw_mask,Y_raw_mask,test_size=0.2)"
   ]
  },
  {
   "cell_type": "code",
   "execution_count": 28,
   "metadata": {},
   "outputs": [
    {
     "name": "stdout",
     "output_type": "stream",
     "text": [
      "(9585, 100) (2397, 100)\n"
     ]
    }
   ],
   "source": [
    "print(X_train.shape,X_val.shape)"
   ]
  },
  {
   "cell_type": "code",
   "execution_count": 32,
   "metadata": {},
   "outputs": [
    {
     "name": "stdout",
     "output_type": "stream",
     "text": [
      "{'C': 4.2625, 'class_weight': None, 'dual': False, 'fit_intercept': True, 'intercept_scaling': 1, 'l1_ratio': None, 'max_iter': 4000, 'multi_class': 'auto', 'n_jobs': None, 'penalty': 'l2', 'random_state': None, 'solver': 'lbfgs', 'tol': 0.2475075, 'verbose': 0, 'warm_start': False}\n",
      "0.9561623794621277\n"
     ]
    }
   ],
   "source": [
    "# Determine logistic regression hyperparameters via cross validation\n",
    "log_opt = sllm.LogisticRegression()\n",
    "tols = np.linspace(0.00001, 0.99, 25)\n",
    "c_vals = np.linspace(0.1, 100, 25)\n",
    "max_iters = [4000]\n",
    "param = {'tol': tols,'C': c_vals,'max_iter':max_iters}\n",
    "grid = GridSearchCV(log_opt, param_grid=param)\n",
    "gridModel = grid.fit(X_test, np.ravel(Y_test))\n",
    "log_params = grid.best_estimator_.get_params()\n",
    "print(log_params)\n",
    "print(grid.best_score_)\n"
   ]
  },
  {
   "cell_type": "code",
   "execution_count": 45,
   "metadata": {},
   "outputs": [
    {
     "name": "stdout",
     "output_type": "stream",
     "text": [
      "{'bootstrap': True, 'ccp_alpha': 0.0, 'class_weight': None, 'criterion': 'gini', 'max_depth': None, 'max_features': 'sqrt', 'max_leaf_nodes': None, 'max_samples': None, 'min_impurity_decrease': 0.0, 'min_samples_leaf': 1, 'min_samples_split': 2, 'min_weight_fraction_leaf': 0.0, 'n_estimators': 183, 'n_jobs': None, 'oob_score': False, 'random_state': None, 'verbose': 0, 'warm_start': False}\n",
      "0.9758110067933746\n"
     ]
    }
   ],
   "source": [
    "# Determine random forest hyperparameters via cross validation\n",
    "forest_opt = sle.RandomForestClassifier()\n",
    "n_trees = np.linspace(20, 300, 25, dtype=int)\n",
    "param = {'n_estimators': n_trees}\n",
    "grid = GridSearchCV(forest_opt, param_grid=param)\n",
    "gridModel = grid.fit(X_test, np.ravel(Y_test))\n",
    "forest_params = grid.best_estimator_.get_params()\n",
    "print(forest_params)\n",
    "print(grid.best_score_)\n"
   ]
  },
  {
   "cell_type": "code",
   "execution_count": 44,
   "metadata": {},
   "outputs": [
    {
     "name": "stdout",
     "output_type": "stream",
     "text": [
      "[[1176   58]\n",
      " [  48 1115]]\n",
      "0.9557780559032123\n",
      "0.9607843137254902\n"
     ]
    }
   ],
   "source": [
    "log_model = log_opt.fit(X_train,Y_train)\n",
    "\n",
    "Y_log_pred = log_model.predict(X_val)\n",
    "print(metrics.confusion_matrix(Y_val,Y_log_pred))\n",
    "print(metrics.accuracy_score(Y_val,Y_log_pred))\n",
    "print(metrics.precision_score(Y_val,Y_log_pred,pos_label=3))"
   ]
  },
  {
   "cell_type": "code",
   "execution_count": 43,
   "metadata": {},
   "outputs": [
    {
     "name": "stdout",
     "output_type": "stream",
     "text": [
      "[[1205   29]\n",
      " [  19 1144]]\n",
      "0.9799749687108886\n",
      "0.9844771241830066\n"
     ]
    }
   ],
   "source": [
    "forest_opt.fit(X_train,Y_train)\n",
    "Y_forest_pred = forest_opt.predict(X_val)\n",
    "print(metrics.confusion_matrix(Y_val,Y_forest_pred))\n",
    "print(metrics.accuracy_score(Y_val,Y_forest_pred))\n",
    "print(metrics.precision_score(Y_val,Y_forest_pred,pos_label=3))"
   ]
  }
 ],
 "metadata": {
  "kernelspec": {
   "display_name": "Python 3",
   "language": "python",
   "name": "python3"
  },
  "language_info": {
   "codemirror_mode": {
    "name": "ipython",
    "version": 3
   },
   "file_extension": ".py",
   "mimetype": "text/x-python",
   "name": "python",
   "nbconvert_exporter": "python",
   "pygments_lexer": "ipython3",
   "version": "3.10.1"
  },
  "orig_nbformat": 4
 },
 "nbformat": 4,
 "nbformat_minor": 2
}
